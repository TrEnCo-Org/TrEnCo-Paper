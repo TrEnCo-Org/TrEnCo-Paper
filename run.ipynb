{
 "cells": [
  {
   "cell_type": "code",
   "execution_count": 3,
   "metadata": {},
   "outputs": [],
   "source": [
    "from ucimlrepo import fetch_ucirepo\n",
    "\n",
    "dataset = fetch_ucirepo(id=144)"
   ]
  },
  {
   "cell_type": "code",
   "execution_count": 6,
   "metadata": {},
   "outputs": [],
   "source": [
    "# This cell allows me to join all the results into a single dataframe\n",
    "\n",
    "import pandas as pd\n",
    "\n",
    "datasets = [\n",
    "    44, # spambase\n",
    "    # 4135, # Amazon_employee_access\n",
    "    40982, # steel-plates-fault\n",
    "    41703, # MIP-2016-classification\n",
    "    43098, # Students_scores\n",
    "    43672, # Heart-Disease-Dataset-(Comprehensive)\n",
    "    45036, # default-of-credit-card-clients\n",
    "    45058, # credit-g\n",
    "    # 45068, # Adult\n",
    "    45578, # California-Housing-Classification\n",
    "]\n",
    "\n",
    "from pathlib import Path\n",
    "\n",
    "results_dir = Path(\"results\") / \"finite_subset_open_ml2\"\n",
    "\n",
    "for dataset_id in datasets:\n",
    "    df = pd.read_csv(results_dir / f\"{dataset_id}.csv\")\n",
    "    gr = df.groupby([\"prune-prop\"])\n",
    "    \n",
    "    df = gr.agg({\n",
    "        \"n-mip-trees\": \"mean\",\n",
    "        \"mip-prune-test-fidelity\": \"mean\",\n",
    "        \"random-prune-test-fidelity\": \"mean\",\n",
    "        \"greedy-prune-test-fidelity\": \"mean\",\n",
    "        \"mip-prune-train-fidelity\": \"mean\",\n",
    "        \"random-prune-train-fidelity\": \"mean\",\n",
    "        \"greedy-prune-train-fidelity\": \"mean\",\n",
    "        \"mip-prune-grid-fidelity\": \"mean\",\n",
    "        \"random-prune-grid-fidelity\": \"mean\",\n",
    "        \"greedy-prune-grid-fidelity\": \"mean\",\n",
    "    }).reset_index()\n",
    "    df.to_csv(results_dir / f\"{dataset_id}-agg.csv\", index=False) "
   ]
  }
 ],
 "metadata": {
  "kernelspec": {
   "display_name": "trenco",
   "language": "python",
   "name": "python3"
  },
  "language_info": {
   "codemirror_mode": {
    "name": "ipython",
    "version": 3
   },
   "file_extension": ".py",
   "mimetype": "text/x-python",
   "name": "python",
   "nbconvert_exporter": "python",
   "pygments_lexer": "ipython3",
   "version": "3.11.8"
  }
 },
 "nbformat": 4,
 "nbformat_minor": 2
}

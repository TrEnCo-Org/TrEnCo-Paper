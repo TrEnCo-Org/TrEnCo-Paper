{
 "cells": [
  {
   "cell_type": "code",
   "execution_count": 6,
   "metadata": {},
   "outputs": [
    {
     "name": "stdout",
     "output_type": "stream",
     "text": [
      "Processing Pima-Diabetes\n",
      "Processing Adult-Income\n",
      "Processing HTRU2\n",
      "Processing COMPAS-ProPublica\n",
      "Processing FICO\n",
      "Processing Breast-Cancer-Wisconsin\n",
      "Processing Seeds\n"
     ]
    }
   ],
   "source": [
    "from pathlib import Path\n",
    "\n",
    "import pandas as pd\n",
    "\n",
    "datasets = Path(\"datasets\")\n",
    "datasets = [d for d in datasets.iterdir() if d.is_dir()]\n",
    "\n",
    "rows = []\n",
    "\n",
    "for dataset in datasets:\n",
    "    print(f\"Processing {dataset.name}\")\n",
    "    fn = dataset / f'{dataset.name}.full.csv'\n",
    "    df = pd.read_csv(fn)\n",
    "    \n",
    "    ff = dataset / f'{dataset.name}.featurelist.csv'\n",
    "    tt = open(ff, 'r').read().strip().split(',')[:-1]\n",
    "    tn = [f for f in tt if f == 'D' or f == 'F']\n",
    "    tb = [f for f in tt if f == 'B']\n",
    "    tc = [f for f in tt if f == 'C']\n",
    "    \n",
    "    rows.append({\n",
    "        'dataset': dataset.name,\n",
    "        'n-samples': len(df),\n",
    "        'n-features': len(df.columns) - 1,\n",
    "        'n-numeric': len(tn),\n",
    "        'n-binary': len(tb),\n",
    "        'n-categorical': len(tc),\n",
    "    })\n",
    "    \n",
    "df = pd.DataFrame(rows)\n",
    "df.to_csv('results/datasets_summary.csv', index=False)"
   ]
  }
 ],
 "metadata": {
  "kernelspec": {
   "display_name": "trenco",
   "language": "python",
   "name": "python3"
  },
  "language_info": {
   "codemirror_mode": {
    "name": "ipython",
    "version": 3
   },
   "file_extension": ".py",
   "mimetype": "text/x-python",
   "name": "python",
   "nbconvert_exporter": "python",
   "pygments_lexer": "ipython3",
   "version": "3.10.13"
  }
 },
 "nbformat": 4,
 "nbformat_minor": 2
}
